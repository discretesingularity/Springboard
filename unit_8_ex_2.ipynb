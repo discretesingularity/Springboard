{
 "cells": [
  {
   "cell_type": "markdown",
   "metadata": {},
   "source": [
    "# Examining Racial Discrimination in the US Job Market\n",
    "\n",
    "### Background\n",
    "Racial discrimination continues to be pervasive in cultures throughout the world. Researchers examined the level of racial discrimination in the United States labor market by randomly assigning identical résumés to black-sounding or white-sounding names and observing the impact on requests for interviews from employers.\n",
    "\n",
    "### Data\n",
    "In the dataset provided, each row represents a resume. The 'race' column has two values, 'b' and 'w', indicating black-sounding and white-sounding. The column 'call' has two values, 1 and 0, indicating whether the resume received a call from employers or not.\n",
    "\n",
    "Note that the 'b' and 'w' values in race are assigned randomly to the resumes when presented to the employer."
   ]
  },
  {
   "cell_type": "markdown",
   "metadata": {},
   "source": [
    "### Exercises\n",
    "You will perform a statistical analysis to establish whether race has a significant impact on the rate of callbacks for resumes.\n",
    "\n",
    "Answer the following questions **in this notebook below and submit to your Github account**. \n",
    "\n",
    "   1. What test is appropriate for this problem? Does CLT apply?\n",
    "   2. What are the null and alternate hypotheses?\n",
    "   3. Compute margin of error, confidence interval, and p-value. Try using both the bootstrapping and the frequentist statistical approaches.\n",
    "   4. Write a story describing the statistical significance in the context or the original problem.\n",
    "   5. Does your analysis mean that race/name is the most important factor in callback success? Why or why not? If not, how would you amend your analysis?\n",
    "\n",
    "You can include written notes in notebook cells using Markdown: \n",
    "   - In the control panel at the top, choose Cell > Cell Type > Markdown\n",
    "   - Markdown syntax: http://nestacms.com/docs/creating-content/markdown-cheat-sheet\n",
    "\n",
    "#### Resources\n",
    "+ Experiment information and data source: http://www.povertyactionlab.org/evaluation/discrimination-job-market-united-states\n",
    "+ Scipy statistical methods: http://docs.scipy.org/doc/scipy/reference/stats.html \n",
    "+ Markdown syntax: http://nestacms.com/docs/creating-content/markdown-cheat-sheet\n",
    "+ Formulas for the Bernoulli distribution: https://en.wikipedia.org/wiki/Bernoulli_distribution"
   ]
  },
  {
   "cell_type": "code",
   "execution_count": 2,
   "metadata": {},
   "outputs": [],
   "source": [
    "import pandas as pd\n",
    "import numpy as np\n",
    "from scipy import stats\n",
    "import seaborn as sns\n",
    "import scipy.stats as stats\n",
    "import matplotlib.pyplot as plt\n",
    "%matplotlib inline"
   ]
  },
  {
   "cell_type": "code",
   "execution_count": 3,
   "metadata": {},
   "outputs": [],
   "source": [
    "data = pd.io.stata.read_stata('data/us_job_market_discrimination.dta')"
   ]
  },
  {
   "cell_type": "code",
   "execution_count": 4,
   "metadata": {},
   "outputs": [
    {
     "name": "stdout",
     "output_type": "stream",
     "text": [
      "b_calls = 157.0\n",
      "w_calls = 235.0\n",
      "total sample size = 4870\n",
      "b_percent = 0.0645\n",
      "w_percent = 0.0965\n"
     ]
    }
   ],
   "source": [
    "# callbacks based on \"race\"\n",
    "b_calls = sum(data[data.race == 'b'].call)\n",
    "w_calls = sum(data[data.race == 'w'].call)\n",
    "\n",
    "n_b = len(data[data.race =='b'])\n",
    "n_w = len(data[data.race =='w'])\n",
    "\n",
    "n = len(data)\n",
    "\n",
    "b_percent = b_calls / n_b\n",
    "w_percent = w_calls / n_w\n",
    "print(\"b_calls =\",b_calls)\n",
    "print(\"w_calls =\", w_calls)\n",
    "print('total sample size =', n)\n",
    "print(\"b_percent = %.4f\" %b_percent)\n",
    "print(\"w_percent = %.4f\" %w_percent)"
   ]
  },
  {
   "cell_type": "code",
   "execution_count": 5,
   "metadata": {},
   "outputs": [],
   "source": [
    "#data.head()\n",
    "#data.info()"
   ]
  },
  {
   "cell_type": "markdown",
   "metadata": {
    "collapsed": true
   },
   "source": [
    "<div class=\"span5 alert alert-success\">\n",
    "<p>Your answers to Q1 and Q2 here</p>\n",
    "</div>"
   ]
  },
  {
   "cell_type": "code",
   "execution_count": 6,
   "metadata": {},
   "outputs": [],
   "source": [
    "np.random.seed(8080)\n",
    "\n",
    "def ecdf(data):\n",
    "    \"\"\"Compute ECDF for a one-dimensional array of measurements.\"\"\"\n",
    "\n",
    "    # Number of data points: n\n",
    "    n = len(data)\n",
    "\n",
    "    # x: sort the data\n",
    "    x = np.sort(data)\n",
    "\n",
    "    # y: range for y-axis\n",
    "    y = np.arange(1, n+1) / n\n",
    "\n",
    "    return x, y"
   ]
  },
  {
   "cell_type": "code",
   "execution_count": 7,
   "metadata": {},
   "outputs": [
    {
     "data": {
      "text/plain": [
       "<matplotlib.legend.Legend at 0x219c313b5c0>"
      ]
     },
     "execution_count": 7,
     "metadata": {},
     "output_type": "execute_result"
    },
    {
     "data": {
      "image/png": "[encoded data removed]",
      "text/plain": [
       "<Figure size 432x288 with 1 Axes>"
      ]
     },
     "metadata": {
      "needs_background": "light"
     },
     "output_type": "display_data"
    }
   ],
   "source": [
    "b_samp = np.random.binomial(n_b, b_percent, size=10000)\n",
    "w_samp = np.random.binomial(n_w, w_percent, size=10000)\n",
    "\n",
    "b_x, b_y = ecdf(b_samp)\n",
    "w_x, w_y = ecdf(w_samp)\n",
    "\n",
    "plt.plot(b_x, b_y, marker='.', linestyle='none', color='red')\n",
    "plt.plot(w_x, w_y, marker='.', linestyle='none', color='blue')\n",
    "\n",
    "plt.margins(0.02)\n",
    "\n",
    "plt.xlabel('Number of Calls')\n",
    "plt.ylabel('ECDF')\n",
    "plt.style.use('seaborn')\n",
    "\n",
    "plt.legend(('Black', 'White'), fontsize='large')"
   ]
  },
  {
   "cell_type": "markdown",
   "metadata": {},
   "source": [
    "### Q1: What test is appropriate for this problem? Does CLT apply?\n",
    "\n",
    "A two-sample proportion test is appropriate since the variables are categorial.\n",
    "CLT does apply for this proportion test. The names were randomly assigned, and the successful sample size for each group is less than 10% of the total size of each group.\n",
    "\n",
    "\n",
    "Total calls for b_names = 157<br>\n",
    "Call percent for b_names = 6.45%<br>\n",
    "Total calls for w_names = 235<br>\n",
    "Call percent for w_names = 9.65%\n",
    "\n",
    "Sample size for each group = 2435"
   ]
  },
  {
   "cell_type": "markdown",
   "metadata": {},
   "source": [
    "### Q2: What are the null and alternate hypotheses?\n",
    "\n",
    "* **H<sub>0</sub>**: p<sub>b</sub> = p<sub>w</sub>, The number of callbacks for black- and white-sounding names.\n",
    "\n",
    "* **H<sub>a</sub>**: p<sub>b</sub> $\\neq$ p<sub>w</sub>, There is a difference between the number of callbacks for black- and white-sounding names."
   ]
  },
  {
   "cell_type": "markdown",
   "metadata": {},
   "source": [
    "### Q3: Compute margin of error, confidence interval, and p-value. Try using both the bootstrapping and the frequentist statistical approaches."
   ]
  },
  {
   "cell_type": "code",
   "execution_count": 8,
   "metadata": {},
   "outputs": [],
   "source": [
    "def ztest_two_samp(r1, n1, r2, n2, one_sided=False):\n",
    "    \"\"\"Returns the z-statistic and p-value for a 2-sample Z-test of proportions\"\"\"\n",
    "    p1 = r1/n1\n",
    "    p2 = r2/n2\n",
    "    \n",
    "    p = (r1+r2)/(n1+n2)\n",
    "    se = np.sqrt(p*(1-p)*(1/n1+1/n2))\n",
    "    \n",
    "    z = (p1-p2)/se\n",
    "    p = 1-stats.norm.cdf(abs(z))\n",
    "    p *= 2-one_sided\n",
    "    return z, p"
   ]
  },
  {
   "cell_type": "code",
   "execution_count": 10,
   "metadata": {},
   "outputs": [
    {
     "name": "stdout",
     "output_type": "stream",
     "text": [
      "Observed difference in proportions: \t 0.032032854209445585\n",
      "\n",
      "z-stat: \t 4.108412152434346\n",
      "p-value: \t 3.983886837577444e-05\n",
      "95% conf int: \t 0.016777447859559147 - 0.047288260559332024\n",
      "Margin of err: \t +/-0.015255406349886438\n"
     ]
    }
   ],
   "source": [
    "# Frequentist approach\n",
    "# 95% confidence interval\n",
    "prop_diff = w_percent - b_percent\n",
    "print('Observed difference in proportions: \\t {}\\n'.format(prop_diff))\n",
    "\n",
    "z_crit = 1.96\n",
    "p_hat1 = w_percent*(1-w_percent)/n_w\n",
    "p_hat2 =  b_percent*(1-b_percent)/n_b\n",
    "ci_high = prop_diff + z_crit*(np.sqrt(p_hat1 + p_hat2))\n",
    "ci_low = prop_diff - z_crit*(np.sqrt(p_hat1 + p_hat2))\n",
    "\n",
    "z_stat, p_val = ztest_two_samp(w_calls, n_w, b_calls, n_b)\n",
    "print('z-stat: \\t {}\\np-value: \\t {}'.format(z_stat, p_val))\n",
    "\n",
    "print('95% conf int: \\t {} - {}'.format(ci_low, ci_high))\n",
    "moe = (ci_high - ci_low)/2\n",
    "print('Margin of err: \\t +/-{}'.format(moe))"
   ]
  },
  {
   "cell_type": "code",
   "execution_count": 18,
   "metadata": {},
   "outputs": [
    {
     "name": "stdout",
     "output_type": "stream",
     "text": [
      "obs diff: 0.032032854209445585\n",
      "\n",
      "BOOTSTRAP RESULTS\n",
      "p-value: 0.0\n",
      "95% conf. int.: [-0.01190965  0.01190965]\n"
     ]
    }
   ],
   "source": [
    "# Bootstrap approach\n",
    "# Construct arrays of data: white-sounding names, black-sounding names\n",
    "all_callbacks = np.array([True] * int(w_calls) + [False] * int(n-w_calls))\n",
    "\n",
    "size = 10000\n",
    "\n",
    "bs_reps_diff = np.empty(size)\n",
    "\n",
    "for i in range(size):\n",
    "    w_bs_replicates = np.sum(np.random.choice(all_callbacks, size=n_w))\n",
    "    b_bs_replicates = np.sum(np.random.choice(all_callbacks, size=n_b))\n",
    "    \n",
    "    bs_reps_diff[i] = (w_bs_replicates - b_bs_replicates)/n_b\n",
    "    \n",
    "bs_p_value = np.sum(bs_reps_diff >= prop_diff) / len(bs_reps_diff)\n",
    "\n",
    "bs_ci = np.percentile(bs_reps_diff, [2.5, 97.5])\n",
    "bs_mean_diff = np.mean(bs_reps_diff)\n",
    "\n",
    "print('obs diff: {}\\n'.format(prop_diff))\n",
    "print('BOOTSTRAP RESULTS\\np-value: {}\\n95% conf. int.: {}'.format(bs_p_value, bs_ci))"
   ]
  },
  {
   "cell_type": "markdown",
   "metadata": {},
   "source": [
    "Both of the p-values from the frequentist approach and bootstrap method are approximately 0.0000, which is less than the threshold of p = 0.05. This suggests that the null hypothesis should be rejected and supports the alternative hypothesis, which stated that there is a statistically significant difference in the number of call backs between white- and black-sounding names on job applications."
   ]
  },
  {
   "cell_type": "markdown",
   "metadata": {},
   "source": [
    "<div class=\"span5 alert alert-success\">\n",
    "<p> Your answers to Q4 and Q5 here </p>\n",
    "</div>"
   ]
  },
  {
   "cell_type": "markdown",
   "metadata": {},
   "source": [
    "### Q4. Write a story describing the statistical significance in the context of the original problem.\n",
    "\n",
    "Based on the data sample provided, there is a statistically significant difference between the number of callbacks received by white- and black-sounding names for the job applications. In this sample set, the proportion of callbacks for white-sounding names was consistently higher than callbacks for the black-sounding names.\n",
    "\n",
    "The statistics for the original data set were the following:\n",
    "Total calls for b_names = 157\n",
    "Call percent for b_names = 6.45%\n",
    "Total calls for w_names = 235\n",
    "Call percent for w_names = 9.65%\n",
    "\n",
    "The difference between the proportion of callbacks is approximately 49.6% high probability of a callback for the white-sounding names compared to the black-sounding names."
   ]
  },
  {
   "cell_type": "markdown",
   "metadata": {},
   "source": [
    "### Q5. Does your analysis mean that race/name is the most important factor in callback success? Why or why not? If not, how would you amend your analysis?\n",
    "\n",
    "It would be a somewhat crude analysis to assume from this study that the most important factor in callback success is perceived race of the applicant's name. While, the analysis does support the hypothesis that there is a statistical difference between the proportion of callbacks based on white- and black-sounding names, there may have been other factors at play, such as demographic difference in where the applications were went, biases of companies and hiring managers, what consistutes a black- or white-sounding name, and other factors.\n",
    "\n",
    "While the study mentions that the only difference in applications was the name itself, for further analysis, I would prefer to have a much more thorough explanation of what was selected as white- and black-sounding names."
   ]
  },
  {
   "cell_type": "code",
   "execution_count": null,
   "metadata": {},
   "outputs": [],
   "source": []
  },
  {
   "cell_type": "code",
   "execution_count": null,
   "metadata": {},
   "outputs": [],
   "source": []
  },
  {
   "cell_type": "code",
   "execution_count": null,
   "metadata": {},
   "outputs": [],
   "source": []
  },
  {
   "cell_type": "code",
   "execution_count": null,
   "metadata": {},
   "outputs": [],
   "source": []
  },
  {
   "cell_type": "code",
   "execution_count": null,
   "metadata": {},
   "outputs": [],
   "source": []
  },
  {
   "cell_type": "code",
   "execution_count": null,
   "metadata": {},
   "outputs": [],
   "source": []
  },
  {
   "cell_type": "code",
   "execution_count": null,
   "metadata": {},
   "outputs": [],
   "source": []
  },
  {
   "cell_type": "code",
   "execution_count": null,
   "metadata": {},
   "outputs": [],
   "source": []
  }
 ],
 "metadata": {
  "kernelspec": {
   "display_name": "Python 3",
   "language": "python",
   "name": "python3"
  },
  "language_info": {
   "codemirror_mode": {
    "name": "ipython",
    "version": 3
   },
   "file_extension": ".py",
   "mimetype": "text/x-python",
   "name": "python",
   "nbconvert_exporter": "python",
   "pygments_lexer": "ipython3",
   "version": "3.7.1"
  }
 },
 "nbformat": 4,
 "nbformat_minor": 1
}
